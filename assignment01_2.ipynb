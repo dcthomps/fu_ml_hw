{
 "cells": [
  {
   "cell_type": "markdown",
   "metadata": {},
   "source": [
    "# Assignment 1.2 - KNNR / DNNR"
   ]
  },
  {
   "cell_type": "code",
   "execution_count": null,
   "metadata": {},
   "outputs": [],
   "source": []
  },
  {
   "cell_type": "markdown",
   "metadata": {},
   "source": [
    "# Course Assignment Guidelines\n",
    "\n",
    "---\n",
    "\n",
    "## 📚 Weekly Assignment Structure\n",
    "\n",
    "Each week includes **two assignments**:\n",
    "\n",
    "| File Format | Required For |\n",
    "|-------------|--------------|\n",
    "| `assignment[x]_1.ipynb` | All students |\n",
    "| `assignment[x]_2.ipynb` | 10 ECTS students only |\n",
    "\n",
    "Upload your solution as a `.ipynb` file **AND** a `.pdf` file in the respective entry in the whiteboard. You will find each deadline there as well.\n",
    "\n",
    "---\n",
    "\n",
    "## ✅ Grading Requirements\n",
    "\n",
    "### Pass/Fail System\n",
    "* Each submitted `.ipynb` notebook receives either a **\"pass\"** or **\"fail\"** grade\n",
    "* **Minimum # of passes: n-1** \n",
    "\n",
    "### Separate Tracking\n",
    "The n-1 # of passes is tracked **separately** for each assignment type:\n",
    "\n",
    "#### For 5 ECTS Students:\n",
    "- ✔️ Must achieve n-1 # of passes on `assignment[x]_1.ipynb` series\n",
    "\n",
    "#### For 10 ECTS Students:\n",
    "- ✔️ Must achieve n-1 # of passes on `assignment[x]_1.ipynb` series\n",
    "- ✔️ Must achieve n-1 # of passes on `assignment[x]_2.ipynb` series\n",
    "\n",
    "---\n",
    "\n",
    "## 🌟 BONUS Tasks\n",
    "\n",
    "- **Optional BONUS tasks** appear in some notebooks\n",
    "- Successfully completing **BONUS** tasks earns **extra points** toward your final grade\n",
    "- Check the **Whiteboard** assignment grading for bonus point confirmations\n",
    "- 10 ECTS students will find separate bonus tasks in `assignment[x]_2.ipynb`\n",
    "- 5 ECTS students will **NOT** get additional extra points for solving `assignment[x]_2.ipynb` Bonus tasks\n",
    "- Vice Versa: 10 ECTS students will **NOT** get additional extra points for solving `assignment[x]_1.ipynb` Bonus tasks\n",
    "\n",
    "---\n",
    "\n",
    "## 📋 Quick Summary\n",
    "\n",
    "| Study Program | Requirements | Pass Criteria |\n",
    "|---------------|-------------|---------------|\n",
    "| **5 ECTS** | `assignment[x]_1.ipynb` | n-1 |\n",
    "| **10 ECTS** | `assignment[x]_1.ipynb` + `assignment[x]_2.ipynb` | n-1 each |\n",
    "| **All Students** | Optional BONUS tasks | Extra final exam points |\n",
    "\n",
    "\n",
    "**Note:** The n-1 rule is mandatory to pass the tutorial component of the module."
   ]
  },
  {
   "cell_type": "code",
   "execution_count": null,
   "metadata": {},
   "outputs": [],
   "source": []
  },
  {
   "cell_type": "markdown",
   "metadata": {},
   "source": [
    "Please submit your solution of this notebook in the Whiteboard at the corresponding Assignment entry as .ipynb-file and as .pdf. <br><br>\n",
    "Please do **NOT** rename the file!\n",
    "\n",
    "#### State both names of your group members here:\n",
    "[Jane and John Doe]"
   ]
  },
  {
   "cell_type": "code",
   "execution_count": null,
   "metadata": {},
   "outputs": [],
   "source": [
    "# Daniel Thompson and Paola Gega"
   ]
  },
  {
   "cell_type": "markdown",
   "metadata": {},
   "source": [
    "## Grading Info/Details - Assignment 1.2:\n",
    "\n",
    "The assignment will be graded semi-automatically, which means that your code will be tested against a set of predefined test cases and qualitatively assessed by a human. This will speed up the grading process for us.\n",
    "\n",
    "* For passing the test scripts: \n",
    "    - Please make sure to **NOT** alter predefined class or function names, as this would lead to failing of the test scripts.\n",
    "    - Please do **NOT** rename the files before uploading to the Whiteboard!\n",
    "\n",
    "* **(RESULT)** tags indicate checkpoints that will be specifically assessed by a human.\n",
    "\n",
    "* You will pass the assignment if you pass the majority of test cases and we can at least confirm effort regarding the **(RESULT)**-tagged checkpoints per task.\n",
    "\n",
    "Note: For now, we will keep the test cases black-boxed, meaning we won't reveal their internal implementation details. This might be subject to change in the future, depending on how well we can keep up writing test cases for upcoming assignments which are still work in progress. (:"
   ]
  },
  {
   "cell_type": "code",
   "execution_count": null,
   "metadata": {},
   "outputs": [],
   "source": []
  },
  {
   "cell_type": "markdown",
   "metadata": {},
   "source": [
    "## Task 1.2.1 - kNN on House Pricing Data (KNNR)\n",
    "\n",
    "Implement the k-Nearest Neighbor (kNN) algorithm from scratch using only NumPy. <br><br> You may use the provided sklearn functions to load datasets and evaluate your results. Apply your kNN implementation on a regression Problem - the [California Housing Dataset](https://www.kaggle.com/datasets/camnugent/california-housing-prices).\n",
    "\n",
    "* Show 5 data samples to get an idea of the data. **(RESULT)**\n",
    "* Split the dataset into a training set (80%) and a test set (20%). Train your model on the training set and evaluate it on the test set using the mean squared error (MSE) as a metric. Try at least 3 different values for k (e.g., 1, 3, 5) and 2 different distance measures (e.g., Euclidean, Manhattan). Report on your results. **(RESULT)**"
   ]
  },
  {
   "cell_type": "code",
   "execution_count": 1,
   "metadata": {},
   "outputs": [],
   "source": [
    "import numpy as np\n",
    "from sklearn.model_selection import train_test_split\n",
    "from sklearn.datasets import fetch_california_housing\n",
    "import matplotlib.pyplot as plt\n",
    "import pandas as pd"
   ]
  },
  {
   "cell_type": "code",
   "execution_count": null,
   "metadata": {},
   "outputs": [
    {
     "data": {
      "image/png": "[encoded data removed]",
      "text/plain": [
       "<Figure size 640x480 with 1 Axes>"
      ]
     },
     "metadata": {},
     "output_type": "display_data"
    }
   ],
   "source": [
    "# Get California Housing Data\n",
    "data = fetch_california_housing()\n",
    "X, y = data.data, data.target\n",
    "# print(X.shape, y.shape)\n",
    "\n",
    "# Split data and normalize features\n",
    "X_train, X_test, y_train, y_test = train_test_split(X, y, test_size=.2)\n",
    "X_train = (X_train-X_train.mean(axis=0))/X_train.std(axis=0)\n",
    "X_test = (X_test-X_test.mean(axis=0))/X_test.std(axis=0)\n",
    "\n",
    "# Choose five random samples from the training set\n",
    "rand_inds = np.array(np.random.choice(len(y_train), 5, replace=False)) # generate 5 random indices\n",
    "# First project on the pricipal components\n",
    "cov_matrix = np.cov(X_train.T)\n",
    "values, vectors = np.linalg.eig(cov_matrix)\n",
    "sorted_indices = np.argsort(values)[::-1]\n",
    "values_sorted = values[sorted_indices]\n",
    "vectors_sorted = vectors[:,sorted_indices]\n",
    "pca_components = vectors_sorted[:, :2]\n",
    "projected_data = np.dot(X_train[rand_inds], pca_components)\n",
    "# Plot the projection\n",
    "plt.scatter(projected_data[:, 0], projected_data[:, 1])\n",
    "plt.xlabel('First Principal Component')\n",
    "plt.ylabel('Second Principal Component')\n",
    "plt.show()\n",
    "\n",
    "# Make sure epsilon in suitably small for our data\n",
    "ep = np.min(X.std(axis=0)) * 0.0001"
   ]
  },
  {
   "cell_type": "code",
   "execution_count": 3,
   "metadata": {},
   "outputs": [],
   "source": [
    "class KNNRegressor:\n",
    "    \"\"\"Your KNN Regressor implementation\"\"\"\n",
    "    def __init__(self, k=3, p=2):\n",
    "        self.k = k\n",
    "        self.p = p\n",
    "        \n",
    "    def fit(self, X_train, y_train):\n",
    "        \"\"\"Fit the model using the training data.\"\"\"\n",
    "        self.X_train = X_train\n",
    "        self.y_train = y_train\n",
    "        \n",
    "    def predict(self, X_test):\n",
    "        \"\"\"Predict label for multiple samples.\"\"\"\n",
    "        n_test = len(X_test)\n",
    "        y_test_hat = np.empty(n_test, dtype=float) # initialise predicted label array\n",
    "        \n",
    "        for i in np.arange(n_test): # go through test samples\n",
    "            dist = np.linalg.norm(self.X_train - X_test[i], ord=self.p, axis=1) # compute L_p distance of every training sample to test sample at hand\n",
    "            sorted_ind = np.argsort(dist)[:self.k] # indices of k closest neighbors\n",
    "            \"\"\"Take a distance-weighted average of nearest_lables\"\"\"\n",
    "            y_test_hat[i]= np.sum(self.y_train[sorted_ind] / (dist[sorted_ind]+ep))/np.sum(1/(dist[sorted_ind]+ep))\n",
    "\n",
    "        return y_test_hat\n",
    "        "
   ]
  },
  {
   "cell_type": "code",
   "execution_count": 6,
   "metadata": {},
   "outputs": [
    {
     "name": "stdout",
     "output_type": "stream",
     "text": [
      "Euclidean metric:\n",
      "Mean squared error for k=1: 0.6713374473499515\n",
      "Mean squared error for k=3: 0.43828707792866417\n",
      "Mean squared error for k=5: 0.39773117697916494\n",
      "Manhattan metric:\n",
      "Mean squared error for k=1: 0.6092423571748303\n",
      "Mean squared error for k=3: 0.42554362958562214\n",
      "Mean squared error for k=5: 0.38219576058906946\n"
     ]
    }
   ],
   "source": [
    "print(\"Euclidean metric:\")\n",
    "for k in [1,3,5]:\n",
    "    KNN = KNNRegressor(k)\n",
    "    KNN.fit(X_train, y_train)\n",
    "    y_test_hat = KNN.predict(X_test)\n",
    "    print(\"Mean squared error for k={}:\".format(k), np.mean((y_test_hat - y_test)**2))\n",
    "print(\"Manhattan metric:\")\n",
    "for k in [1,3,5]:\n",
    "    KNN = KNNRegressor(k,p=1)\n",
    "    KNN.fit(X_train, y_train)\n",
    "    y_test_hat = KNN.predict(X_test)\n",
    "    print(\"Mean squared error for k={}:\".format(k), np.mean((y_test_hat - y_test)**2))"
   ]
  },
  {
   "cell_type": "markdown",
   "metadata": {},
   "source": [
    "## Task 1.2.2 - DNNR\n",
    "\n",
    "Implement the DNNR algorithm yourself and apply it to the same regression problem from Task 1.2.1. <br><br> You may use the provided sklearn functions to load datasets and evaluate your results. Apply your kNN implementation on a regression Problem - the [California Housing Dataset](https://www.kaggle.com/datasets/camnugent/california-housing-prices).\n",
    "\n",
    "* Split the dataset into a training set (80%) and a test set (20%). Train your model on the training set and evaluate it on the test set using the mean squared error (MSE) as a metric. Try at least 3 different values for k (e.g., 1, 3, 5) and report the results. **(RESULT)**\n",
    "* How does the predicition quality of DNNR compare to kNN? Discuss your results. **(RESULT)**"
   ]
  },
  {
   "cell_type": "code",
   "execution_count": null,
   "metadata": {},
   "outputs": [],
   "source": [
    "class DNNRegressor:\n",
    "    \"\"\"DNNR - uses local gradients for Taylor approximation\"\"\"\n",
    "    def __init__(self, k=5, k_gradient=10):\n",
    "        self.k = k  # neighbors for prediction\n",
    "        self.k_gradient = k_gradient  # neighbors for gradient estimation\n",
    "        \n",
    "    def fit(self):\n",
    "        # TODO: Implement this function\n",
    "        pass\n",
    "    \n",
    "    def predict(self):\n",
    "        # TODO: Implement this function\n",
    "        pass"
   ]
  },
  {
   "cell_type": "code",
   "execution_count": null,
   "metadata": {},
   "outputs": [],
   "source": []
  },
  {
   "cell_type": "markdown",
   "metadata": {
    "collapsed": false,
    "jupyter": {
     "outputs_hidden": false
    },
    "pycharm": {
     "name": "#%% md\n"
    }
   },
   "source": [
    "## Congratz, you made it! :)"
   ]
  },
  {
   "cell_type": "markdown",
   "metadata": {},
   "source": []
  }
 ],
 "metadata": {
  "kernelspec": {
   "display_name": "3.11.0",
   "language": "python",
   "name": "python3"
  },
  "language_info": {
   "codemirror_mode": {
    "name": "ipython",
    "version": 3
   },
   "file_extension": ".py",
   "mimetype": "text/x-python",
   "name": "python",
   "nbconvert_exporter": "python",
   "pygments_lexer": "ipython3",
   "version": "3.11.0"
  }
 },
 "nbformat": 4,
 "nbformat_minor": 4
}
